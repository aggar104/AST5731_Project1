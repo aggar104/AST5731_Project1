{
 "cells": [
  {
   "cell_type": "code",
   "execution_count": 1,
   "id": "85aafc22-aca3-474f-a30c-af8df7a7d13c",
   "metadata": {},
   "outputs": [],
   "source": [
    "## Uncomment this section to install required packages\n",
    "\n",
    "#!pip install astroquery\n",
    "#!pip install Astropy"
   ]
  },
  {
   "cell_type": "code",
   "execution_count": 2,
   "id": "d342e7d5-7704-4ff0-b225-eb92a9993e4d",
   "metadata": {},
   "outputs": [
    {
     "name": "stdout",
     "output_type": "stream",
     "text": [
      "Important:  Gaia archive will be intermittently unavailable due to scheduled maintenance on 14-10-2024 from 10:30 to 12:30 (CEST)\n",
      "TAP Table name: gaiadr3.gaia_source\n",
      "Description: This table has an entry for every Gaia observed source as published with this data release. It contains the basic source parameters, in their final state as processed by the Gaia Data Processing and Analysis Consortium from the raw data coming from the spacecraft. The table is complemented with others containing information specific to certain kinds of objects (e.g.~Solar--system objects, non--single stars, variables etc.) and value--added processing (e.g.~astrophysical parameters etc.). Further array data types (spectra, epoch measurements) are presented separately via Datalink resources.\n",
      "Size (bytes): 3646930329600\n",
      "Num. columns: 152\n"
     ]
    }
   ],
   "source": [
    "from astroquery.gaia import Gaia\n",
    "from matplotlib import pyplot as plt\n",
    "import numpy as np\n",
    "import pandas as pd\n",
    "from astropy.table import Table, join\n",
    "import scipy.stats as st\n",
    "meta_source = Gaia.load_table('gaiadr3.gaia_source')\n",
    "meta_source\n",
    "print(meta_source)"
   ]
  },
  {
   "cell_type": "code",
   "execution_count": 3,
   "id": "cebb4651-9081-4fa5-8195-d786347b69d5",
   "metadata": {},
   "outputs": [],
   "source": [
    "# This query selects stars from Gaia DR3 that meet the data quality standards for number and consistancy\n",
    "# of measurements (Babusiaux C, Leeuwen F van, Barstow MA, Jordi C, Vallenari A, et al. 2018. A&A. 616:A10). \n",
    "\n",
    "# The color cuts, \"bp_rp >l 1.8 AND bp_rp < 5.0 AND g_rp > 0.92 AND g_rp <1.65\" limit the selection to M-dwarf stars\n",
    "# (\"A Modern Mean Dwarf Stellar Coor and Effective Temperature Sequence\", \n",
    "# http://www.pas.rochester.edu/~emamajek/EEM_dwarf_UBVIJHK_colors_Teff.txt, # Eric Mamajek, # Version 2022.04.16).\n",
    "\n",
    "# The final temperature and absolute magnitude cuts, \"teff_gspphot < 3900 AND phot_g_mean_mag+5*log10(parallax)-10 > 4\"\n",
    "# remove any M-giant stars.\n",
    "\n",
    "# Stars are drawn from a strip of sky 20-deg wide centered on 180-deg galactic latitude.\n",
    "\n",
    "query_M = \"\"\"\n",
    "    SELECT TOP 250000\n",
    "    source_id, phot_g_mean_mag+5*log10(parallax)-10 AS mag_abs, 4.74057*pm*distance_gspphot/1000 AS v_tan,\n",
    "    ra, dec, l, b, distance_gspphot, parallax,\n",
    "    phot_g_mean_mag, phot_rp_mean_mag, phot_bp_mean_mag, g_rp, bp_rp, ag_gspphot,\n",
    "    ebpminrp_gspphot, pm, teff_gspphot, logg_gspphot, mh_gspphot,\n",
    "    pmdec, pmra\n",
    "    FROM gaiadr3.gaia_source\n",
    "    WHERE parallax_over_error > 10\n",
    "    AND phot_g_mean_flux_over_error>50\n",
    "    AND phot_rp_mean_flux_over_error>20\n",
    "    AND phot_bp_mean_flux_over_error>20\n",
    "    AND phot_bp_rp_excess_factor < 1.3+0.060*power(phot_bp_mean_mag-phot_rp_mean_mag,2)\n",
    "    AND phot_bp_rp_excess_factor > 1.0+0.015*power(phot_bp_mean_mag-phot_rp_mean_mag,2)\n",
    "    AND visibility_periods_used>8\n",
    "    AND astrometric_chi2_al/(astrometric_n_good_obs_al-5)<1.44*greatest(1,exp(-0.4*(phot_g_mean_mag-19.5)))\n",
    "    AND bp_rp > 1.8 AND bp_rp < 5.0\n",
    "    AND g_rp > 0.92 AND g_rp <1.65\n",
    "    AND teff_gspphot < 3900\n",
    "    AND l>170. AND l<190.\n",
    "    \"\"\""
   ]
  },
  {
   "cell_type": "code",
   "execution_count": null,
   "id": "91bf32fa-8864-498c-bdf5-e4f9cb57ba0a",
   "metadata": {},
   "outputs": [],
   "source": [
    "# Run the query. Using the asynchronus query aviods the HTTP timeout 408 error. \n",
    "\n",
    "job_M = Gaia.launch_job_async(query_M, output_format = 'votable')\n",
    "job_M"
   ]
  },
  {
   "cell_type": "code",
   "execution_count": null,
   "id": "5bd0513c-be45-4b1e-b584-9b0fc58e854e",
   "metadata": {},
   "outputs": [],
   "source": [
    "# Convert results to dataframe and display the results.\n",
    "\n",
    "results_m = job_M.get_results()\n",
    "m_dwarf_df = results_m.to_pandas()\n",
    "N_total = len(m_dwarf_df)\n",
    "m_dwarf_df"
   ]
  },
  {
   "cell_type": "code",
   "execution_count": null,
   "id": "077493a9-16ef-441a-be26-c1e3c13e5d25",
   "metadata": {},
   "outputs": [],
   "source": [
    " # Plot and H-R diagram of the M-dwarf stars to verify that the selected stars are on the red dwarf section of the main sequence.\n",
    "\n",
    "plt.scatter(m_dwarf_df['g_rp'], m_dwarf_df['mag_abs'], s = 0.01, alpha = 1, label = \"K-Dwarf\", c = m_dwarf_df[\"teff_gspphot\"])\n",
    "plt.colorbar(label='Temperature [K]')\n",
    "plt.title('M Dwarf Stars')\n",
    "plt.xlabel('Color G - rp [mag]')\n",
    "plt.ylabel('G mag abs [mag]')\n",
    "plt.xlim(0.8, 1.4)\n",
    "plt.ylim(14, 6)\n",
    "plt.grid()\n",
    "# plt.legend()"
   ]
  },
  {
   "cell_type": "code",
   "execution_count": null,
   "id": "994f56c3-ad2c-4c1a-af1e-d23706f9514e",
   "metadata": {},
   "outputs": [],
   "source": [
    "# Tangential velocity histogram\n",
    "\n",
    "plt.hist(m_dwarf_df['v_tan'], bins=100, density=False)\n",
    "plt.xlabel('Tangential Velocity [km/s]')\n",
    "plt.ylabel('Number')\n",
    "plt.xlim(0,400)\n",
    "#plt.ylim(0,3000)\n",
    "plt.title(f'Tangential Velocity Distribution, N = {N_total:.0f}')\n",
    "plt.grid()\n",
    "plt.minorticks_on()\n",
    "\n",
    "# plt.savefig(\"data/v_tan_hist.png\")"
   ]
  },
  {
   "cell_type": "code",
   "execution_count": null,
   "id": "f97cf2d5-5d21-48d7-9053-b9e3b675df26",
   "metadata": {},
   "outputs": [],
   "source": [
    "# Find low tangental velocity stars. These are potential disk stars.\n",
    "\n",
    "low_v_tan = m_dwarf_df[m_dwarf_df['v_tan'] < 50]\n",
    "N_low_v_tan = len(low_v_tan)\n",
    "low_v_tan"
   ]
  },
  {
   "cell_type": "code",
   "execution_count": null,
   "id": "f34937c6-a6b1-4089-93ae-04c550425c34",
   "metadata": {},
   "outputs": [],
   "source": [
    "# Find high tangental velocity stars. These are potential halo stars.\n",
    "\n",
    "high_v_tan = m_dwarf_df[m_dwarf_df['v_tan'] > 100]\n",
    "N_high_v_tan = len(high_v_tan)\n",
    "high_v_tan"
   ]
  },
  {
   "cell_type": "code",
   "execution_count": null,
   "id": "20e6237d-ea97-4ee8-9577-732f965e702b",
   "metadata": {},
   "outputs": [],
   "source": [
    "# Save the files high and low tangential velocity files as csv.\n",
    "\n",
    "high_v_tan.to_csv('dataset/high_v_tan.csv')\n",
    "low_v_tan.to_csv('dataset/low_v_tan.csv')"
   ]
  },
  {
   "cell_type": "code",
   "execution_count": null,
   "id": "323eb801-5a69-4bad-b272-309192141861",
   "metadata": {},
   "outputs": [],
   "source": [
    "# Plot an HR diagram of the two groups.\n",
    "\n",
    "plt.scatter(low_v_tan['g_rp'], low_v_tan['mag_abs'], s = 0.01, alpha = 0.25, label = \"Disk\")\n",
    "plt.scatter(high_v_tan['g_rp'], high_v_tan['mag_abs'], s = 0.05, alpha = 0.5, label = \"Halo\")\n",
    "# plt.colorbar(label='Metallicity [dex]')\n",
    "plt.title('M Dwarf Stars, Halo and Disk')\n",
    "plt.xlabel('Color G - rp [mag]')\n",
    "plt.ylabel('G mag abs [mag]')\n",
    "plt.xlim(0.8, 1.4)\n",
    "plt.ylim(14, 6)\n",
    "plt.grid()\n",
    "plt.legend()\n",
    "\n",
    "#plt.savefig(\"data/hr_diagram.png\")"
   ]
  },
  {
   "cell_type": "code",
   "execution_count": null,
   "id": "2bae0902-6d27-4e06-966e-352f4f75a54e",
   "metadata": {},
   "outputs": [],
   "source": [
    "# Compare galactic latitude of halo and disk stars\n",
    "\n",
    "bins = 20\n",
    "fig, axs = plt.subplots(1, 2, sharey=True, tight_layout=True)\n",
    "N2=42\n",
    "axs[0].hist(low_v_tan['b'], bins=bins, density=True)\n",
    "axs[0].set_xlabel('Latitude [Deg]')\n",
    "axs[0].set_xlim(-90,90)\n",
    "#axs[0].set_ylim(0,1.2)\n",
    "axs[0].set_title(f'M-dwarfs Disk, N = {N_low_v_tan:.0f}')\n",
    "axs[0].grid()\n",
    "axs[0].minorticks_on()\n",
    "\n",
    "axs[1].hist(high_v_tan['b'], bins=bins, density=True)\n",
    "axs[1].set_xlabel('Latitude [Deg]')\n",
    "axs[1].set_xlim(-90,90)\n",
    "#axs[1].set_ylim(0,1.2)\n",
    "axs[1].set_title(f'M-dwarfs Halo, N = {N_high_v_tan:.0f}')\n",
    "axs[1].grid()\n",
    "axs[1].minorticks_on()\n",
    "\n",
    "plt.savefig(\"data/v_tan_hist.png\")"
   ]
  },
  {
   "cell_type": "code",
   "execution_count": null,
   "id": "4a39993c-83eb-442b-bb95-efb1c64d189e",
   "metadata": {},
   "outputs": [],
   "source": [
    "# Trim data files to save space. Remove photometry data and keep position data.\n",
    "\n",
    "high_v_tan_position = high_v_tan.drop(['ra', 'dec', 'distance_gspphot', 'parallax',\n",
    "    'phot_g_mean_mag', 'phot_rp_mean_mag', 'phot_bp_mean_mag', 'bp_rp', 'ag_gspphot',\n",
    "    'ebpminrp_gspphot', 'pm', 'teff_gspphot', 'logg_gspphot', 'mh_gspphot',\n",
    "    'pmdec', 'pmra'], axis=1)\n",
    "low_v_tan_position = low_v_tan.drop(['ra', 'dec', 'distance_gspphot', 'parallax',\n",
    "    'phot_g_mean_mag', 'phot_rp_mean_mag', 'phot_bp_mean_mag', 'bp_rp', 'ag_gspphot',\n",
    "    'ebpminrp_gspphot', 'pm', 'teff_gspphot', 'logg_gspphot', 'mh_gspphot',\n",
    "    'pmdec', 'pmra'], axis=1)\n",
    "\n",
    "# Save the files.\n",
    "high_v_tan_position.to_csv('data/high_v_tan_position.csv')\n",
    "low_v_tan_position.to_csv('data/low_v_tan_position.csv')"
   ]
  }
 ],
 "metadata": {
  "kernelspec": {
   "display_name": "Python 3 (ipykernel)",
   "language": "python",
   "name": "python3"
  },
  "language_info": {
   "codemirror_mode": {
    "name": "ipython",
    "version": 3
   },
   "file_extension": ".py",
   "mimetype": "text/x-python",
   "name": "python",
   "nbconvert_exporter": "python",
   "pygments_lexer": "ipython3",
   "version": "3.12.4"
  }
 },
 "nbformat": 4,
 "nbformat_minor": 5
}
