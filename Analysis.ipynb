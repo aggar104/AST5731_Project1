{
 "cells": [
  {
   "cell_type": "code",
   "execution_count": 1,
   "id": "362ea77b-a7e0-4da7-abec-3885776a4506",
   "metadata": {},
   "outputs": [],
   "source": [
    "import numpy as np\n",
    "import matplotlib.pyplot as plt\n",
    "import pandas as pd"
   ]
  },
  {
   "cell_type": "markdown",
   "id": "4495712e-f65d-41a7-9a6a-13b96b15cb99",
   "metadata": {},
   "source": [
    "## Data Import"
   ]
  },
  {
   "cell_type": "code",
   "execution_count": 2,
   "id": "3ba50a23-e753-47e2-9e4d-158be572a3f8",
   "metadata": {},
   "outputs": [],
   "source": [
    "path = 'dataset/'\n",
    "\n",
    "low = pd.read_csv(path+'low_v_tan_position.csv')\n",
    "high = pd.read_csv(path+'high_v_tan_position.csv')"
   ]
  },
  {
   "cell_type": "code",
   "execution_count": 3,
   "id": "bea50254-5abf-460d-9f59-4bc5036e7975",
   "metadata": {},
   "outputs": [
    {
     "data": {
      "text/html": [
       "<div>\n",
       "<style scoped>\n",
       "    .dataframe tbody tr th:only-of-type {\n",
       "        vertical-align: middle;\n",
       "    }\n",
       "\n",
       "    .dataframe tbody tr th {\n",
       "        vertical-align: top;\n",
       "    }\n",
       "\n",
       "    .dataframe thead th {\n",
       "        text-align: right;\n",
       "    }\n",
       "</style>\n",
       "<table border=\"1\" class=\"dataframe\">\n",
       "  <thead>\n",
       "    <tr style=\"text-align: right;\">\n",
       "      <th></th>\n",
       "      <th>Unnamed: 0</th>\n",
       "      <th>SOURCE_ID</th>\n",
       "      <th>mag_abs</th>\n",
       "      <th>v_tan</th>\n",
       "      <th>l</th>\n",
       "      <th>b</th>\n",
       "      <th>g_rp</th>\n",
       "    </tr>\n",
       "  </thead>\n",
       "  <tbody>\n",
       "    <tr>\n",
       "      <th>0</th>\n",
       "      <td>0</td>\n",
       "      <td>3293764686491591168</td>\n",
       "      <td>9.915977</td>\n",
       "      <td>42.387168</td>\n",
       "      <td>186.179032</td>\n",
       "      <td>-24.301958</td>\n",
       "      <td>1.112200</td>\n",
       "    </tr>\n",
       "    <tr>\n",
       "      <th>1</th>\n",
       "      <td>2</td>\n",
       "      <td>3293772490447823232</td>\n",
       "      <td>12.095703</td>\n",
       "      <td>31.409473</td>\n",
       "      <td>186.028342</td>\n",
       "      <td>-24.547609</td>\n",
       "      <td>1.320612</td>\n",
       "    </tr>\n",
       "    <tr>\n",
       "      <th>2</th>\n",
       "      <td>3</td>\n",
       "      <td>3293772589231403392</td>\n",
       "      <td>10.454383</td>\n",
       "      <td>7.266938</td>\n",
       "      <td>186.012913</td>\n",
       "      <td>-24.543605</td>\n",
       "      <td>1.190216</td>\n",
       "    </tr>\n",
       "    <tr>\n",
       "      <th>3</th>\n",
       "      <td>4</td>\n",
       "      <td>3293773246362078464</td>\n",
       "      <td>8.498131</td>\n",
       "      <td>13.477387</td>\n",
       "      <td>185.918718</td>\n",
       "      <td>-24.663517</td>\n",
       "      <td>1.005732</td>\n",
       "    </tr>\n",
       "    <tr>\n",
       "      <th>4</th>\n",
       "      <td>5</td>\n",
       "      <td>3293773830477619840</td>\n",
       "      <td>8.919980</td>\n",
       "      <td>27.725001</td>\n",
       "      <td>185.912979</td>\n",
       "      <td>-24.581077</td>\n",
       "      <td>1.121164</td>\n",
       "    </tr>\n",
       "  </tbody>\n",
       "</table>\n",
       "</div>"
      ],
      "text/plain": [
       "   Unnamed: 0            SOURCE_ID    mag_abs      v_tan           l  \\\n",
       "0           0  3293764686491591168   9.915977  42.387168  186.179032   \n",
       "1           2  3293772490447823232  12.095703  31.409473  186.028342   \n",
       "2           3  3293772589231403392  10.454383   7.266938  186.012913   \n",
       "3           4  3293773246362078464   8.498131  13.477387  185.918718   \n",
       "4           5  3293773830477619840   8.919980  27.725001  185.912979   \n",
       "\n",
       "           b      g_rp  \n",
       "0 -24.301958  1.112200  \n",
       "1 -24.547609  1.320612  \n",
       "2 -24.543605  1.190216  \n",
       "3 -24.663517  1.005732  \n",
       "4 -24.581077  1.121164  "
      ]
     },
     "execution_count": 3,
     "metadata": {},
     "output_type": "execute_result"
    }
   ],
   "source": [
    "low.head()"
   ]
  },
  {
   "cell_type": "code",
   "execution_count": 4,
   "id": "9fc16baa-6c45-42ac-9f34-ac6e8de6fde4",
   "metadata": {},
   "outputs": [
    {
     "data": {
      "text/html": [
       "<div>\n",
       "<style scoped>\n",
       "    .dataframe tbody tr th:only-of-type {\n",
       "        vertical-align: middle;\n",
       "    }\n",
       "\n",
       "    .dataframe tbody tr th {\n",
       "        vertical-align: top;\n",
       "    }\n",
       "\n",
       "    .dataframe thead th {\n",
       "        text-align: right;\n",
       "    }\n",
       "</style>\n",
       "<table border=\"1\" class=\"dataframe\">\n",
       "  <thead>\n",
       "    <tr style=\"text-align: right;\">\n",
       "      <th></th>\n",
       "      <th>Unnamed: 0</th>\n",
       "      <th>SOURCE_ID</th>\n",
       "      <th>mag_abs</th>\n",
       "      <th>v_tan</th>\n",
       "      <th>l</th>\n",
       "      <th>b</th>\n",
       "      <th>g_rp</th>\n",
       "    </tr>\n",
       "  </thead>\n",
       "  <tbody>\n",
       "    <tr>\n",
       "      <th>0</th>\n",
       "      <td>36</td>\n",
       "      <td>3293818223259506304</td>\n",
       "      <td>9.378773</td>\n",
       "      <td>105.648118</td>\n",
       "      <td>185.929313</td>\n",
       "      <td>-23.796143</td>\n",
       "      <td>1.109787</td>\n",
       "    </tr>\n",
       "    <tr>\n",
       "      <th>1</th>\n",
       "      <td>37</td>\n",
       "      <td>3293819215396280192</td>\n",
       "      <td>9.687300</td>\n",
       "      <td>119.167758</td>\n",
       "      <td>185.887620</td>\n",
       "      <td>-23.815332</td>\n",
       "      <td>1.150410</td>\n",
       "    </tr>\n",
       "    <tr>\n",
       "      <th>2</th>\n",
       "      <td>43</td>\n",
       "      <td>3293825129566916992</td>\n",
       "      <td>8.788501</td>\n",
       "      <td>156.051084</td>\n",
       "      <td>187.640929</td>\n",
       "      <td>-23.297590</td>\n",
       "      <td>1.083450</td>\n",
       "    </tr>\n",
       "    <tr>\n",
       "      <th>3</th>\n",
       "      <td>89</td>\n",
       "      <td>3293864157934057728</td>\n",
       "      <td>8.475696</td>\n",
       "      <td>130.803219</td>\n",
       "      <td>187.697237</td>\n",
       "      <td>-22.638987</td>\n",
       "      <td>1.028452</td>\n",
       "    </tr>\n",
       "    <tr>\n",
       "      <th>4</th>\n",
       "      <td>120</td>\n",
       "      <td>3293880066492881024</td>\n",
       "      <td>9.660731</td>\n",
       "      <td>128.149051</td>\n",
       "      <td>187.301746</td>\n",
       "      <td>-22.803261</td>\n",
       "      <td>1.091900</td>\n",
       "    </tr>\n",
       "  </tbody>\n",
       "</table>\n",
       "</div>"
      ],
      "text/plain": [
       "   Unnamed: 0            SOURCE_ID   mag_abs       v_tan           l  \\\n",
       "0          36  3293818223259506304  9.378773  105.648118  185.929313   \n",
       "1          37  3293819215396280192  9.687300  119.167758  185.887620   \n",
       "2          43  3293825129566916992  8.788501  156.051084  187.640929   \n",
       "3          89  3293864157934057728  8.475696  130.803219  187.697237   \n",
       "4         120  3293880066492881024  9.660731  128.149051  187.301746   \n",
       "\n",
       "           b      g_rp  \n",
       "0 -23.796143  1.109787  \n",
       "1 -23.815332  1.150410  \n",
       "2 -23.297590  1.083450  \n",
       "3 -22.638987  1.028452  \n",
       "4 -22.803261  1.091900  "
      ]
     },
     "execution_count": 4,
     "metadata": {},
     "output_type": "execute_result"
    }
   ],
   "source": [
    "high.head()"
   ]
  },
  {
   "cell_type": "markdown",
   "id": "d801a00a-aec1-4d2c-9530-13bbba9ee30c",
   "metadata": {},
   "source": [
    "## Distribution"
   ]
  },
  {
   "cell_type": "code",
   "execution_count": 107,
   "id": "4226e971-a6b2-4da3-9de8-f767e7dc2371",
   "metadata": {},
   "outputs": [
    {
     "data": {
      "text/plain": [
       "Text(0.5, 1.0, 'M-dwarfs Disk Galactic Latitude Distribution')"
      ]
     },
     "execution_count": 107,
     "metadata": {},
     "output_type": "execute_result"
    },
    {
     "data": {
      "image/png": "[encoded data removed]",
      "text/plain": [
       "<Figure size 800x500 with 1 Axes>"
      ]
     },
     "metadata": {},
     "output_type": "display_data"
    }
   ],
   "source": [
    "fig, ax = plt.subplots(figsize=(8, 5))\n",
    "\n",
    "plt.hist(low['b'], alpha=0.5)\n",
    "\n",
    "\n",
    "plt.xlabel('Latitude [deg]')\n",
    "plt.ylabel('Count/N')\n",
    "plt.title('M-dwarfs Disk Galactic Latitude Distribution')"
   ]
  },
  {
   "cell_type": "code",
   "execution_count": null,
   "id": "b283170e-13f5-4f7f-bc71-ad02abc0fa3a",
   "metadata": {},
   "outputs": [],
   "source": []
  }
 ],
 "metadata": {
  "kernelspec": {
   "display_name": "Python 3 (ipykernel)",
   "language": "python",
   "name": "python3"
  },
  "language_info": {
   "codemirror_mode": {
    "name": "ipython",
    "version": 3
   },
   "file_extension": ".py",
   "mimetype": "text/x-python",
   "name": "python",
   "nbconvert_exporter": "python",
   "pygments_lexer": "ipython3",
   "version": "3.12.4"
  }
 },
 "nbformat": 4,
 "nbformat_minor": 5
}
